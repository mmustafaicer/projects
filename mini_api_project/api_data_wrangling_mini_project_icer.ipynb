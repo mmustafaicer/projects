{
 "cells": [
  {
   "cell_type": "markdown",
   "metadata": {},
   "source": [
    "This exercise will require you to pull some data from the Qunadl API. Qaundl is currently the most widely used aggregator of financial market data."
   ]
  },
  {
   "cell_type": "markdown",
   "metadata": {},
   "source": [
    "As a first step, you will need to register a free account on the http://www.quandl.com website."
   ]
  },
  {
   "cell_type": "markdown",
   "metadata": {},
   "source": [
    "After you register, you will be provided with a unique API key, that you should store:"
   ]
  },
  {
   "cell_type": "code",
   "execution_count": 12,
   "metadata": {},
   "outputs": [],
   "source": [
    "# Store the API key as a string - according to PEP8, constants are always named in all upper case\n",
    "API_KEY = 'vwupus.......'"
   ]
  },
  {
   "cell_type": "markdown",
   "metadata": {},
   "source": [
    "Qaundl has a large number of data sources, but, unfortunately, most of them require a Premium subscription. Still, there are also a good number of free datasets."
   ]
  },
  {
   "cell_type": "markdown",
   "metadata": {},
   "source": [
    "For this mini project, we will focus on equities data from the Frankfurt Stock Exhange (FSE), which is available for free. We'll try and analyze the stock prices of a company called Carl Zeiss Meditec, which manufactures tools for eye examinations, as well as medical lasers for laser eye surgery: https://www.zeiss.com/meditec/int/home.html. The company is listed under the stock ticker AFX_X."
   ]
  },
  {
   "cell_type": "markdown",
   "metadata": {},
   "source": [
    "You can find the detailed Quandl API instructions here: https://docs.quandl.com/docs/time-series"
   ]
  },
  {
   "cell_type": "markdown",
   "metadata": {},
   "source": [
    "While there is a dedicated Python package for connecting to the Quandl API, we would prefer that you use the *requests* package, which can be easily downloaded using *pip* or *conda*. You can find the documentation for the package here: http://docs.python-requests.org/en/master/ "
   ]
  },
  {
   "cell_type": "markdown",
   "metadata": {},
   "source": [
    "Finally, apart from the *requests* package, you are encouraged to not use any third party Python packages, such as *pandas*, and instead focus on what's available in the Python Standard Library (the *collections* module might come in handy: https://pymotw.com/3/collections/ ).\n",
    "Also, since you won't have access to DataFrames, you are encouraged to us Python's native data structures - preferably dictionaries, though some questions can also be answered using lists.\n",
    "You can read more on these data structures here: https://docs.python.org/3/tutorial/datastructures.html"
   ]
  },
  {
   "cell_type": "markdown",
   "metadata": {},
   "source": [
    "Keep in mind that the JSON responses you will be getting from the API map almost one-to-one to Python's dictionaries. Unfortunately, they can be very nested, so make sure you read up on indexing dictionaries in the documentation provided above."
   ]
  },
  {
   "cell_type": "code",
   "execution_count": 2,
   "metadata": {},
   "outputs": [],
   "source": [
    "# First, import the relevant modules\n",
    "import requests\n",
    "import collections"
   ]
  },
  {
   "cell_type": "code",
   "execution_count": 13,
   "metadata": {},
   "outputs": [],
   "source": [
    "# Now, call the Quandl API and pull out a small sample of the data (only one day) to get a glimpse\n",
    "# into the JSON structure that will be returned\n",
    "\n",
    "# get the API engine url\n",
    "url = 'https://www.quandl.com/api/v3/datasets/FSE/AFX_X.json'\n",
    "\n",
    "# create parameters\n",
    "params = dict(key=API_KEY, start_date='2019-12-01', end_date='2019-12-02')\n",
    "\n",
    "# get the response\n",
    "res = requests.get(url, params=params)"
   ]
  },
  {
   "cell_type": "code",
   "execution_count": 14,
   "metadata": {},
   "outputs": [
    {
     "name": "stdout",
     "output_type": "stream",
     "text": [
      "{'dataset': {'id': 10095370, 'dataset_code': 'AFX_X', 'database_code': 'FSE', 'name': 'Carl Zeiss Meditec (AFX_X)', 'description': 'Stock Prices for Carl Zeiss Meditec (2020-01-09) from the Frankfurt Stock Exchange.<br><br>Trading System: Xetra<br><br>ISIN: DE0005313704', 'refreshed_at': '2020-01-23T22:16:41.432Z', 'newest_available_date': '2020-01-23', 'oldest_available_date': '2000-06-07', 'column_names': ['Date', 'Open', 'High', 'Low', 'Close', 'Change', 'Traded Volume', 'Turnover', 'Last Price of the Day', 'Daily Traded Units', 'Daily Turnover'], 'frequency': 'daily', 'type': 'Time Series', 'premium': False, 'limit': None, 'transform': None, 'column_index': None, 'start_date': '2019-12-01', 'end_date': '2019-12-02', 'data': [['2019-12-02', 111.0, 111.4, 107.2, 107.6, None, 144610.0, 15685797.0, None, None, None]], 'collapse': None, 'order': None, 'database_id': 6129}}\n"
     ]
    }
   ],
   "source": [
    "# Inspect the JSON structure of the object you created, and take note of how nested it is,\n",
    "# as well as the overall structure\n",
    "json = res.json()\n",
    "print(json)"
   ]
  },
  {
   "cell_type": "markdown",
   "metadata": {},
   "source": [
    "These are your tasks for this mini project:\n",
    "\n",
    "1. Collect data from the Franfurt Stock Exchange, for the ticker AFX_X, for the whole year 2017 (keep in mind that the date format is YYYY-MM-DD).\n",
    "2. Convert the returned JSON object into a Python dictionary.\n",
    "3. Calculate what the highest and lowest opening prices were for the stock in this period.\n",
    "4. What was the largest change in any one day (based on High and Low price)?\n",
    "5. What was the largest change between any two days (based on Closing Price)?\n",
    "6. What was the average daily trading volume during this year?\n",
    "7. (Optional) What was the median trading volume during this year. (Note: you may need to implement your own function for calculating the median.)"
   ]
  },
  {
   "cell_type": "markdown",
   "metadata": {
    "collapsed": true
   },
   "source": [
    "### 1. Collect data from the Franfurt Stock Exchange, for the ticker AFX_X, for the whole year 2017 (keep in mind that the date format is YYYY-MM-DD)."
   ]
  },
  {
   "cell_type": "code",
   "execution_count": null,
   "metadata": {},
   "outputs": [],
   "source": [
    "# create parameters\n",
    "params = dict(key=API_KEY, start_date='2017-01-01', end_date='2017-12-31')\n",
    "\n",
    "# get the response\n",
    "res = requests.get(url, params=params)"
   ]
  },
  {
   "cell_type": "markdown",
   "metadata": {},
   "source": [
    "### 2. Convert the returned JSON object into a Python dictionary."
   ]
  },
  {
   "cell_type": "code",
   "execution_count": 16,
   "metadata": {},
   "outputs": [],
   "source": [
    "data = res.json()"
   ]
  },
  {
   "cell_type": "markdown",
   "metadata": {},
   "source": [
    "### 3. Calculate what the highest and lowest opening prices were for the stock in this period."
   ]
  },
  {
   "cell_type": "code",
   "execution_count": 17,
   "metadata": {},
   "outputs": [],
   "source": [
    "# let's create an list for opening prices\n",
    "opening_prices = []\n",
    "\n",
    "# read the section for opening prices\n",
    "# it is after date column\n",
    "for x in data['dataset']['data']:\n",
    "    opening_prices.append(x[1])"
   ]
  },
  {
   "cell_type": "code",
   "execution_count": 18,
   "metadata": {},
   "outputs": [
    {
     "name": "stdout",
     "output_type": "stream",
     "text": [
      "The lowest opening price of AFX_X in the year 2017 was $34.0.\n"
     ]
    }
   ],
   "source": [
    "# calculate the lowest opening price\n",
    "lowest_opening_price = min(i for i in opening_prices if i is not None)\n",
    "print('The lowest opening price of AFX_X in the year 2017 was ${}.'.format(lowest_opening_price, '.2f'))"
   ]
  },
  {
   "cell_type": "code",
   "execution_count": 19,
   "metadata": {},
   "outputs": [
    {
     "name": "stdout",
     "output_type": "stream",
     "text": [
      "The highest opening price of AFX_X in the year 2017 was $53.11.\n"
     ]
    }
   ],
   "source": [
    "# calculate the highest opening price\n",
    "highest_opening_price = max(i for i in opening_prices if i is not None)\n",
    "print('The highest opening price of AFX_X in the year 2017 was ${}.'.format(highest_opening_price, '.2f'))"
   ]
  },
  {
   "cell_type": "markdown",
   "metadata": {},
   "source": [
    "### 4. What was the largest change in any one day (based on High and Low price)?"
   ]
  },
  {
   "cell_type": "code",
   "execution_count": null,
   "metadata": {},
   "outputs": [],
   "source": [
    "# let's see where the high and low prices are at indexwise\n",
    "data['dataset']"
   ]
  },
  {
   "cell_type": "code",
   "execution_count": 22,
   "metadata": {},
   "outputs": [],
   "source": [
    "# index 2 for high index 3 for low\n",
    "\n",
    "# create an empty list\n",
    "daily_changes = []\n",
    "\n",
    "for i in data['dataset']['data']:\n",
    "    change = i[2]-i[3] # High-low\n",
    "    daily_changes.append(change)"
   ]
  },
  {
   "cell_type": "code",
   "execution_count": 36,
   "metadata": {},
   "outputs": [
    {
     "name": "stdout",
     "output_type": "stream",
     "text": [
      "The largest change in any one day is $2.81\n"
     ]
    }
   ],
   "source": [
    "# find largest change\n",
    "largest_daily_change = max(daily_changes)\n",
    "print('The largest change in any one day is ${:.2f}'.format(largest_daily_change))"
   ]
  },
  {
   "cell_type": "markdown",
   "metadata": {},
   "source": [
    "**NOTE**: For formatting it is better to perform decimal points arrangements inside the curly brackets `{}`. For example `{:.2f}`. Do not forget to use colon `:` in front of notation."
   ]
  },
  {
   "cell_type": "markdown",
   "metadata": {},
   "source": [
    "### 5. What was the largest change between any two days (based on Closing Price)?"
   ]
  },
  {
   "cell_type": "code",
   "execution_count": 38,
   "metadata": {},
   "outputs": [],
   "source": [
    "# create an empty list for changes\n",
    "# between closing price\n",
    "daily_change_closing = []\n",
    "\n",
    "# get the first value\n",
    "close_previous = data['dataset']['data'][0][4]\n",
    "\n",
    "# loop through the remaining closing prices\n",
    "for value in data['dataset']['data'][1:]:\n",
    "    closing = value[4]\n",
    "    daily_change_closing.append(abs(closing-close_previous))\n",
    "    # new previous is the one in the iteration\n",
    "    close_previous = closing"
   ]
  },
  {
   "cell_type": "code",
   "execution_count": 41,
   "metadata": {},
   "outputs": [
    {
     "name": "stdout",
     "output_type": "stream",
     "text": [
      "The largest change between any two days was $2.56 per share.\n"
     ]
    }
   ],
   "source": [
    "largest_daily_change_closing = max(daily_change_closing)\n",
    "print('The largest change between any two days was ${:.2f} per share.'.format(largest_daily_change_closing))"
   ]
  },
  {
   "cell_type": "markdown",
   "metadata": {},
   "source": [
    "### 6. What was the average daily trading volume during this year?"
   ]
  },
  {
   "cell_type": "code",
   "execution_count": 42,
   "metadata": {},
   "outputs": [],
   "source": [
    "# create an empty list for trading volumes\n",
    "trading_vol = []\n",
    "for value in data['dataset']['data']:\n",
    "    trading_vol.append(value[6])"
   ]
  },
  {
   "cell_type": "code",
   "execution_count": 45,
   "metadata": {},
   "outputs": [
    {
     "name": "stdout",
     "output_type": "stream",
     "text": [
      "The average traded volume in 2017 was 89124.34\n"
     ]
    }
   ],
   "source": [
    "avg_trading_vol = sum(trading_vol)/len(trading_vol)\n",
    "print('The average traded volume in 2017 was {:.2f}'.format(avg_trading_vol))"
   ]
  },
  {
   "cell_type": "markdown",
   "metadata": {},
   "source": [
    "### 7. What was the median trading volume during this year?"
   ]
  },
  {
   "cell_type": "code",
   "execution_count": 46,
   "metadata": {},
   "outputs": [],
   "source": [
    "# import numpy for median\n",
    "import numpy as np"
   ]
  },
  {
   "cell_type": "code",
   "execution_count": 51,
   "metadata": {},
   "outputs": [
    {
     "name": "stdout",
     "output_type": "stream",
     "text": [
      "The median trading volume during 2017 was 76286.00\n"
     ]
    }
   ],
   "source": [
    "median = np.median(trading_vol)\n",
    "print('The median trading volume during 2017 was {:.2f}'.format(median))"
   ]
  },
  {
   "cell_type": "code",
   "execution_count": 57,
   "metadata": {},
   "outputs": [],
   "source": [
    "# if you want to use basic Python without importing libraries define a function.\n",
    "# if a list is x=[1,2,3,4] then median is (2+3)/2.\n",
    "# len(x)//2 = 3\n",
    "# len(x)//2 - 1 = 2\n",
    "# same logic below\n",
    "\n",
    "def get_median(numbers_list):\n",
    "    if len(numbers_list)%2 == 0: # means there are two middle points\n",
    "        median1 = sorted(numbers_list)[len(numbers_list)//2] # latter one\n",
    "        median2 = sorted(numbers_list)[len(numbers_list)//2-1] # first one\n",
    "        median = (median1 + median2) / 2\n",
    "    else:\n",
    "        median = sorted(numbers_list)[len(numbers_list)//2]\n",
    "    return median"
   ]
  },
  {
   "cell_type": "code",
   "execution_count": 59,
   "metadata": {},
   "outputs": [
    {
     "name": "stdout",
     "output_type": "stream",
     "text": [
      "The median trading volume during 2017 was 76286.00\n"
     ]
    }
   ],
   "source": [
    "median_basic_python = get_median(trading_vol)\n",
    "print('The median trading volume during 2017 was {:.2f}'.format(median_basic_python))"
   ]
  }
 ],
 "metadata": {
  "kernelspec": {
   "display_name": "Python 3",
   "language": "python",
   "name": "python3"
  },
  "language_info": {
   "codemirror_mode": {
    "name": "ipython",
    "version": 3
   },
   "file_extension": ".py",
   "mimetype": "text/x-python",
   "name": "python",
   "nbconvert_exporter": "python",
   "pygments_lexer": "ipython3",
   "version": "3.7.5"
  }
 },
 "nbformat": 4,
 "nbformat_minor": 2
}
